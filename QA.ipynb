{
 "cells": [
  {
   "cell_type": "markdown",
   "id": "b9b9d911",
   "metadata": {},
   "source": [
    "# Statistic"
   ]
  },
  {
   "cell_type": "markdown",
   "id": "99fef731",
   "metadata": {},
   "source": [
    "### 1 - WHAT IS THE CENTRAL LIMIT THEOREM AND WHY IS IT IMPORTANT?\n",
    " The theorem expresses that as the size of the sample expands,  the distribution of the mean among multiple samples will be like a Gaussian distribution.\n",
    "if we sample from apopulation using a sufficiently large sample size, the mean of the samples (also known as the sample population) will be normally distributed (assuming true random sampling), the mean tending to the mean of the population and variance equal to the variance of the population divided by the size of the sampling. What’s especially important is that this will be true regardless of the distribution of the original population.\n",
    "#### According to Central Limit Theorem, the sampling distribution will approach a normal distribution.\n",
    "# ______________________________________________"
   ]
  },
  {
   "cell_type": "markdown",
   "id": "610ddbe4",
   "metadata": {},
   "source": [
    "### 2 - What is sampling? How many sampling methods do you know?\n",
    "Data sampling is a statistical analysis technique used to select, manipulate and analyze a representative subset of data points to identify patterns and trends in the larger data set being examined.\n",
    "\n",
    "#### Sampling can be based on probability, an approach that uses random numbers that correspond to points in the data set to ensure that there is no correlation between points chosen for the sample.\n",
    "\n",
    "1-Simple random sampling: Software is used to randomly select subjects from the whole population. \n",
    "2-Stratified sampling: Subsets of the data sets or population are created based on a common factor,\n",
    "and samples are randomly collected from each subgroup.\n",
    "3-Cluster sampling: The larger data set is divided into subsets (clusters) based on a defined factor,\n",
    "then a random sampling of clusters is analyzed. The sampling unit is the whole cluster; Instead of\n",
    "sampling individuals from within each group, a researcher will study whole clusters.\n",
    "\n",
    "#### Sampling can also be based on non-probability, an approach in which a data sample is determined and extracted based on the judgment of the analyst.\n",
    "\n",
    "1-Convenience sampling: Data is collected from an easily accessible and available group.\n",
    "2-Consecutive sampling: Data is collected from every subject that meets the criteria until the\n",
    "predetermined sample size is met.\n",
    "3-Purposive or judgmental sampling: The researcher selects the data to sample based on predefined\n",
    "criteria.\n",
    "4-Quota sampling: The researcher ensures equal representation within the sample for all subgroups\n",
    "in the data set or population (random sampling is not used).\n",
    "\n",
    "# _____"
   ]
  },
  {
   "cell_type": "code",
   "execution_count": null,
   "id": "d0f82b54",
   "metadata": {},
   "outputs": [],
   "source": []
  },
  {
   "cell_type": "code",
   "execution_count": null,
   "id": "a327437a",
   "metadata": {},
   "outputs": [],
   "source": []
  },
  {
   "cell_type": "markdown",
   "id": "bbcf53f4",
   "metadata": {},
   "source": [
    "# Data Science"
   ]
  },
  {
   "cell_type": "markdown",
   "id": "951238c7",
   "metadata": {},
   "source": [
    "### 1 - What is Selection Bias?\n",
    "Selection bias is a kind of error that occurs when the researcher decides what has to be studied. It is\n",
    "associated with research where the selection of participants is not random."
   ]
  },
  {
   "cell_type": "markdown",
   "id": "f41fb6ba",
   "metadata": {},
   "source": [
    "###  2- details about performance metrics\n",
    "\n",
    "A data set used for performance evaluation is called a test data set.\n"
   ]
  },
  {
   "cell_type": "markdown",
   "id": "df675e89",
   "metadata": {},
   "source": [
    "Precision : how many of the positive predictions made are correct."
   ]
  },
  {
   "cell_type": "markdown",
   "id": "9ba85bde",
   "metadata": {},
   "source": [
    "Recall : measure of how many of the positive cases the classifier correctly predicted, over all the positive cases in the dataset."
   ]
  },
  {
   "cell_type": "markdown",
   "id": "327b87ed",
   "metadata": {},
   "source": [
    "AUC : is a performance metric and it measures of the ability of a classifier to distinguish between classes.\n",
    "    ROC is a probability curve and AUC represents the degree or measure of separability."
   ]
  },
  {
   "cell_type": "markdown",
   "id": "3eb09a55",
   "metadata": {},
   "source": [
    "### 3 - What is correlation and covariance in statistics?"
   ]
  },
  {
   "cell_type": "markdown",
   "id": "1f744fea",
   "metadata": {},
   "source": [
    "Correlation : measures how strongly two variables are related."
   ]
  },
  {
   "cell_type": "markdown",
   "id": "5f53f0aa",
   "metadata": {},
   "source": [
    "Covariance : measures that indicates the extent to which two random variables change in cycle.\n",
    "\n",
    "It explains the systematic relation between a pair of random variables, where in changes in one variable\n",
    "reciprocal by a corresponding change in another variable."
   ]
  },
  {
   "cell_type": "code",
   "execution_count": null,
   "id": "9cc6813b",
   "metadata": {},
   "outputs": [],
   "source": []
  }
 ],
 "metadata": {
  "kernelspec": {
   "display_name": "Python 3 (ipykernel)",
   "language": "python",
   "name": "python3"
  },
  "language_info": {
   "codemirror_mode": {
    "name": "ipython",
    "version": 3
   },
   "file_extension": ".py",
   "mimetype": "text/x-python",
   "name": "python",
   "nbconvert_exporter": "python",
   "pygments_lexer": "ipython3",
   "version": "3.9.12"
  }
 },
 "nbformat": 4,
 "nbformat_minor": 5
}
