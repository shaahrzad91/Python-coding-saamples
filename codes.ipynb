{
 "cells": [
  {
   "cell_type": "markdown",
   "id": "a033f02e",
   "metadata": {},
   "source": [
    "## Min and Max of the array"
   ]
  },
  {
   "cell_type": "markdown",
   "id": "d14f9c34",
   "metadata": {},
   "source": [
    "#### Hacker Rank codes"
   ]
  },
  {
   "cell_type": "code",
   "execution_count": 8,
   "id": "e29e2cec",
   "metadata": {},
   "outputs": [
    {
     "name": "stdout",
     "output_type": "stream",
     "text": [
      "25\n",
      "16 24\n"
     ]
    }
   ],
   "source": [
    "\n",
    "def miniMaxSum(arr):\n",
    "    # Write your code here\n",
    "    \n",
    "    arr.sort()\n",
    "    s = sum(arr)\n",
    "    print(s)\n",
    "    maxResult = s - arr[0]\n",
    "    minResult = s - arr[len(arr) - 1]\n",
    "    \n",
    "    print(minResult, maxResult)\n",
    "    \n",
    "    \n",
    "arr = [1,3,5,7,9]\n",
    "\n",
    "miniMaxSum(arr)"
   ]
  },
  {
   "cell_type": "markdown",
   "id": "eccaa895",
   "metadata": {},
   "source": [
    "## Leetcode"
   ]
  },
  {
   "cell_type": "code",
   "execution_count": null,
   "id": "f05f7739",
   "metadata": {},
   "outputs": [],
   "source": []
  }
 ],
 "metadata": {
  "kernelspec": {
   "display_name": "Python 3 (ipykernel)",
   "language": "python",
   "name": "python3"
  },
  "language_info": {
   "codemirror_mode": {
    "name": "ipython",
    "version": 3
   },
   "file_extension": ".py",
   "mimetype": "text/x-python",
   "name": "python",
   "nbconvert_exporter": "python",
   "pygments_lexer": "ipython3",
   "version": "3.9.12"
  }
 },
 "nbformat": 4,
 "nbformat_minor": 5
}
